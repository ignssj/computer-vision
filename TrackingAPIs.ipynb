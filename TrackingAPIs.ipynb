{
 "cells": [
  {
   "cell_type": "code",
   "execution_count": 1,
   "id": "43c93417",
   "metadata": {},
   "outputs": [],
   "source": [
    "import cv2"
   ]
  },
  {
   "cell_type": "code",
   "execution_count": 8,
   "id": "13500fe8",
   "metadata": {},
   "outputs": [],
   "source": [
    " def select_tracker():\n",
    "    print(\"Welcome! Which tracker would you like to use?\\n\")\n",
    "    print(\"(0) - MIL - (bad reporting failure)\\n\")\n",
    "    print(\"(1) - KCF - (faster FPS throughput/slightly lower object tracking accuracy)\\n\")\n",
    "    print(\"(2) - CSRT - (higher object tracking accuracy)\\n\")\n",
    "    op = input(\"Your have chosen: \")\n",
    "    \n",
    "    if op == '0':\n",
    "        tracker = cv2.TrackerMIL_create()\n",
    "    if op == '1':\n",
    "        tracker = cv2.TrackerKCF_create()\n",
    "    if op == '2':\n",
    "        tracker = cv2.TrackerCSRT_create()\n",
    "        \n",
    "    return tracker"
   ]
  },
  {
   "cell_type": "code",
   "execution_count": 16,
   "id": "a9f496d8",
   "metadata": {},
   "outputs": [
    {
     "name": "stdout",
     "output_type": "stream",
     "text": [
      "Welcome! Which tracker would you like to use?\n",
      "\n",
      "(0) - MIL - (bad reporting failure)\n",
      "\n",
      "(1) - KCF - (faster FPS throughput/slightly lower object tracking accuracy)\n",
      "\n",
      "(2) - CSRT - (higher object tracking accuracy)\n",
      "\n"
     ]
    },
    {
     "name": "stdin",
     "output_type": "stream",
     "text": [
      "Your have chosen:  0\n"
     ]
    }
   ],
   "source": [
    "tracker = select_tracker()\n",
    "name = str(tracker).split()[0][1:]\n",
    "\n",
    "cap = cv2.VideoCapture(0)\n",
    "ret, frame = cap.read()\n",
    "\n",
    "roi = cv2.selectROI(frame,False)\n",
    "\n",
    "ret = tracker.init(frame,roi)\n",
    "\n",
    "while True:\n",
    "    \n",
    "    ret, frame = cap.read()\n",
    "    sucess,roi = tracker.update(frame)\n",
    "    # roi variable is a tuple of 4 floats\n",
    "    (x,y,w,h) = tuple(map(int,roi))\n",
    "    \n",
    "    if sucess:\n",
    "        p1 = (x,y)\n",
    "        p2 = (x+w,y+h)\n",
    "        cv2.rectangle(frame,p1,p2,(0,0,255),5)\n",
    "        cv2.putText(frame,name,(20,400),cv2.FONT_HERSHEY_DUPLEX,1,(0,0,255),3)\n",
    "    else:\n",
    "        cv2.putText(frame,\"couldn't track the object\",(20,400),cv2.FONT_HERSHEY_COMPLEX,0.5,(0,0,255),1)\n",
    "    \n",
    "    cv2.imshow(name,frame)\n",
    "    \n",
    "    k = cv2.waitKey(10) & 0xFF\n",
    "    \n",
    "    if k == ord('q'):\n",
    "        break;\n",
    "\n",
    "cv2.destroyAllWindows()\n",
    "cap.release()\n",
    "        "
   ]
  },
  {
   "cell_type": "code",
   "execution_count": null,
   "id": "db74e99e",
   "metadata": {},
   "outputs": [],
   "source": []
  }
 ],
 "metadata": {
  "kernelspec": {
   "display_name": "Python 3",
   "language": "python",
   "name": "python3"
  },
  "language_info": {
   "codemirror_mode": {
    "name": "ipython",
    "version": 3
   },
   "file_extension": ".py",
   "mimetype": "text/x-python",
   "name": "python",
   "nbconvert_exporter": "python",
   "pygments_lexer": "ipython3",
   "version": "3.6.6"
  }
 },
 "nbformat": 4,
 "nbformat_minor": 5
}
